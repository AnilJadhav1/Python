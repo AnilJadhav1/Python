{
  "nbformat": 4,
  "nbformat_minor": 0,
  "metadata": {
    "colab": {
      "provenance": []
    },
    "kernelspec": {
      "name": "python3",
      "display_name": "Python 3"
    },
    "language_info": {
      "name": "python"
    }
  },
  "cells": [
    {
      "cell_type": "code",
      "execution_count": null,
      "metadata": {
        "colab": {
          "base_uri": "https://localhost:8080/"
        },
        "id": "VztXijdR-Ls_",
        "outputId": "484ca386-6c58-44b3-8d15-4a2c0d448ce3"
      },
      "outputs": [
        {
          "output_type": "stream",
          "name": "stdout",
          "text": [
            "Hello, World!\n"
          ]
        }
      ],
      "source": [
        "#hello world program\n",
        "print(\"Hello, World!\")"
      ]
    },
    {
      "cell_type": "code",
      "source": [
        "#simple arithmetic operations program\n",
        "num1 = float(input(\"Enter first number: \"))\n",
        "num2 = float(input(\"Enter second number: \"))\n",
        "sum = num1 + num2\n",
        "print(\"Sum:\", sum)\n",
        "diff = num1 - num2\n",
        "print(\"Difference:\", diff)\n",
        "prod = num1 * num2\n",
        "print(\"Product:\", prod)\n",
        "div = num1 / num2\n",
        "print(\"Division:\", div)\n"
      ],
      "metadata": {
        "colab": {
          "base_uri": "https://localhost:8080/"
        },
        "id": "mcYN6pqr-VZS",
        "outputId": "84682ba0-fedc-49a2-919d-5ad36ed7d9d9"
      },
      "execution_count": null,
      "outputs": [
        {
          "output_type": "stream",
          "name": "stdout",
          "text": [
            "Enter first number: 21\n",
            "Enter second number: 3\n",
            "Sum: 24.0\n",
            "Difference: 18.0\n",
            "Product: 63.0\n",
            "Division: 7.0\n"
          ]
        }
      ]
    },
    {
      "cell_type": "code",
      "source": [
        "#Leap Year\n",
        "year = int(input(\"Enter a year: \"))\n",
        "\n",
        "if year % 4 == 0:\n",
        "    if year % 100 == 0:\n",
        "        if year % 400 == 0:\n",
        "            print(year, \"is a leap year\")\n",
        "        else:\n",
        "            print(year, \"is not a leap year\")\n",
        "    else:\n",
        "        print(year, \"is a leap year\")\n",
        "else:\n",
        "    print(year, \"is not a leap year\")"
      ],
      "metadata": {
        "colab": {
          "base_uri": "https://localhost:8080/"
        },
        "id": "7WwbKdlCL5ek",
        "outputId": "ce41674d-98bc-4f1c-dfc4-6d615dc0ccd5"
      },
      "execution_count": null,
      "outputs": [
        {
          "output_type": "stream",
          "name": "stdout",
          "text": [
            "Enter a year: 2024\n",
            "2024 is a leap year\n"
          ]
        }
      ]
    },
    {
      "cell_type": "code",
      "source": [
        "#simple calculator\n",
        "\n",
        "number1 = float(input('Enter first number: '))\n",
        "op = input('Enter operator (+,-,*,/,^): ')\n",
        "number2 = float(input('Enter second number: '))\n",
        "print(number1, op, number2)\n",
        "\n",
        "# Check if the divisor is zero for division operation\n",
        "if op == '/' and number2 == 0:\n",
        "    print(\"Error: Cannot divide by zero\")\n",
        "else:\n",
        "    result = calculate(number1, number2, op)\n",
        "    print('=', result)\n",
        "\n",
        "\n",
        "def calculate(n1, n2, op):\n",
        "    if op == '+':\n",
        "        return n1 + n2\n",
        "    elif op == '-':\n",
        "        return n1 - n2\n",
        "    elif op == '*':\n",
        "        return n1 * n2\n",
        "    elif op == '/':\n",
        "        return n1 / n2\n",
        "    elif op == '^':\n",
        "        return n1 ** n2\n",
        "\n",
        "\n",
        "\n"
      ],
      "metadata": {
        "colab": {
          "base_uri": "https://localhost:8080/"
        },
        "id": "HU9OPzCu-ViE",
        "outputId": "34167f2c-b28e-44b4-f264-1f4b78486592"
      },
      "execution_count": null,
      "outputs": [
        {
          "output_type": "stream",
          "name": "stdout",
          "text": [
            "Enter first number: 21\n",
            "Enter operator (+,-,*,/,^): /\n",
            "Enter second number: 0\n",
            "21.0 / 0.0\n",
            "Error: Cannot divide by zero\n"
          ]
        }
      ]
    },
    {
      "cell_type": "code",
      "source": [
        "#Continue Calculation\n",
        "def calculate(n1,n2,op):\n",
        "    if op == '+':\n",
        "        result = n1+n2\n",
        "    elif op == '-':\n",
        "        result = n1-n2\n",
        "    elif op == '*':\n",
        "        result =  n1*n2\n",
        "    elif op == '/':\n",
        "        result = n1/n2\n",
        "    elif op=='^':\n",
        "        result =  n1**n2\n",
        "    else:\n",
        "        raise ValueError('Invalid operator')\n",
        "\n",
        "    if result.is_integer():\n",
        "        result = int(result)\n",
        "\n",
        "    return result\n",
        "\n",
        "continue_calculating = True\n",
        "while continue_calculating is True:\n",
        "    number1 = float(input('Enter first number: '))\n",
        "    op = input('Enter operator (+,-,*,/,^): ')\n",
        "    number2 = float(input('Enter second number: '))\n",
        "    print(number1,op,number2)\n",
        "    result=calculate(number1,number2,op)\n",
        "    print('=',result)\n",
        "    yes_or_no = input('Continue? (y/n): ')\n",
        "    if yes_or_no == 'n':\n",
        "        continue_calculating = False\n"
      ],
      "metadata": {
        "colab": {
          "base_uri": "https://localhost:8080/"
        },
        "id": "M8M-C_dB-VkZ",
        "outputId": "1b11e92e-b421-4694-ca1e-b1e201c0ccee"
      },
      "execution_count": null,
      "outputs": [
        {
          "name": "stdout",
          "output_type": "stream",
          "text": [
            "Enter first number: 8\n",
            "Enter operator (+,-,*,/,^): /\n",
            "Enter second number: 8\n",
            "8.0 / 8.0\n",
            "= 1\n",
            "Continue? (y/n): n\n"
          ]
        }
      ]
    },
    {
      "cell_type": "code",
      "source": [
        "#Factorial of a Number\n",
        "def factorial(n):\n",
        "    if n == 0:\n",
        "        return 1\n",
        "    else:\n",
        "        return n * factorial(n-1)\n",
        "\n",
        "num = int(input(\"Enter a number: \"))\n",
        "print(\"Factorial:\", factorial(num))\n"
      ],
      "metadata": {
        "colab": {
          "base_uri": "https://localhost:8080/"
        },
        "id": "1Af9vZCpGfET",
        "outputId": "65ceb30c-9077-41a1-b336-d954cc6447f1"
      },
      "execution_count": null,
      "outputs": [
        {
          "output_type": "stream",
          "name": "stdout",
          "text": [
            "Enter a number: 5\n",
            "Factorial: 120\n"
          ]
        }
      ]
    },
    {
      "cell_type": "code",
      "source": [
        "#Fibonacci series\n",
        "def fibonacci(n):\n",
        "    if n <= 1:\n",
        "        return n\n",
        "    else:\n",
        "        return fibonacci(n-1) + fibonacci(n-2)\n",
        "\n",
        "terms = int(input(\"Enter number of terms: \"))\n",
        "print(\"Fibonacci Series:\")\n",
        "for i in range(terms):\n",
        "    print(fibonacci(i), end=\" \")\n"
      ],
      "metadata": {
        "colab": {
          "base_uri": "https://localhost:8080/"
        },
        "id": "-UBKHI69GfHJ",
        "outputId": "f8b327bd-763d-4030-eb91-b2aa37d852c4"
      },
      "execution_count": null,
      "outputs": [
        {
          "output_type": "stream",
          "name": "stdout",
          "text": [
            "Enter number of terms: 15\n",
            "Fibonacci Series:\n",
            "0 1 1 2 3 5 8 13 21 34 55 89 144 233 377 "
          ]
        }
      ]
    },
    {
      "cell_type": "code",
      "source": [
        "#Check for a Prime Number\n",
        "def is_prime(n):\n",
        "    if n <= 1:\n",
        "        return False\n",
        "    for i in range(2, int(n**0.5) + 1):\n",
        "        if n % i == 0:\n",
        "            return False\n",
        "    return True\n",
        "\n",
        "num = int(input(\"Enter a number: \"))\n",
        "if is_prime(num):\n",
        "    print(\"Prime\")\n",
        "else:\n",
        "    print(\"Not Prime\")\n"
      ],
      "metadata": {
        "colab": {
          "base_uri": "https://localhost:8080/"
        },
        "id": "R6Ue1wXdGfJG",
        "outputId": "31ff10e4-92c0-4cb2-819f-7c885e66ebf5"
      },
      "execution_count": null,
      "outputs": [
        {
          "output_type": "stream",
          "name": "stdout",
          "text": [
            "Enter a number: 90\n",
            "Not Prime\n"
          ]
        }
      ]
    },
    {
      "cell_type": "code",
      "source": [
        "#Reverse a String\n",
        "string = input(\"Enter a string: \")\n",
        "reversed_string = string[::-1]\n",
        "print(\"Reversed string:\", reversed_string)\n"
      ],
      "metadata": {
        "colab": {
          "base_uri": "https://localhost:8080/"
        },
        "id": "dBgXJlxM-Vmb",
        "outputId": "5165e4af-2f49-4c25-a4f0-ea4511519da6"
      },
      "execution_count": null,
      "outputs": [
        {
          "output_type": "stream",
          "name": "stdout",
          "text": [
            "Enter a string: malayalam\n",
            "Reversed string: malayalam\n"
          ]
        }
      ]
    },
    {
      "cell_type": "code",
      "source": [
        "#Check for a palindrome\n",
        "string = input(\"Enter a string: \")\n",
        "if string == string[::-1]:\n",
        "    print(\"Palindrome\")\n",
        "else:\n",
        "    print(\"Not Palindrome\")\n",
        "\n"
      ],
      "metadata": {
        "colab": {
          "base_uri": "https://localhost:8080/"
        },
        "id": "DPOgSsye-Vof",
        "outputId": "fcb6d0f0-280b-4401-faac-3bf38d9e1a13"
      },
      "execution_count": null,
      "outputs": [
        {
          "output_type": "stream",
          "name": "stdout",
          "text": [
            "Enter a string: postsop\n",
            "Palindrome\n"
          ]
        }
      ]
    },
    {
      "cell_type": "code",
      "source": [
        "#Simple Interest Calculator\n",
        "principal = float(input(\"Enter principal amount: \"))\n",
        "rate = float(input(\"Enter annual interest rate (%): \"))\n",
        "time = float(input(\"Enter time period (years): \"))\n",
        "simple_interest = (principal * rate * time) / 100\n",
        "print(\"Simple Interest:\", simple_interest)\n"
      ],
      "metadata": {
        "colab": {
          "base_uri": "https://localhost:8080/"
        },
        "id": "f0LHQQ57IBxG",
        "outputId": "c6baf0ed-680a-4ace-ba4f-e4d9b3b93b54"
      },
      "execution_count": null,
      "outputs": [
        {
          "output_type": "stream",
          "name": "stdout",
          "text": [
            "Enter principal amount: 12000\n",
            "Enter annual interest rate (%): 8\n",
            "Enter time period (years): 5\n",
            "Simple Interest: 4800.0\n"
          ]
        }
      ]
    },
    {
      "cell_type": "code",
      "source": [
        "#Temperature Converter`\n",
        "def celsius_to_fahrenheit(celsius):\n",
        "    return (celsius * 9/5) + 32\n",
        "\n",
        "def fahrenheit_to_celsius(fahrenheit):\n",
        "    return (fahrenheit - 32) * 5/9\n",
        "\n",
        "choice = input(\"Enter C to convert Celsius to Fahrenheit, F to convert Fahrenheit to Celsius: \").upper()\n",
        "if choice == 'C':\n",
        "    celsius = float(input(\"Enter temperature in Celsius: \"))\n",
        "    print(\"Temperature in Fahrenheit:\", celsius_to_fahrenheit(celsius))\n",
        "elif choice == 'F':\n",
        "    fahrenheit = float(input(\"Enter temperature in Fahrenheit: \"))\n",
        "    print(\"Temperature in Celsius:\", fahrenheit_to_celsius(fahrenheit))\n",
        "else:\n",
        "    print(\"Invalid choice\")\n"
      ],
      "metadata": {
        "colab": {
          "base_uri": "https://localhost:8080/"
        },
        "id": "Kjmy3Cf2IBzN",
        "outputId": "dc92c55d-fe08-47bb-ee78-3bac691f362e"
      },
      "execution_count": null,
      "outputs": [
        {
          "output_type": "stream",
          "name": "stdout",
          "text": [
            "Enter C to convert Celsius to Fahrenheit, F to convert Fahrenheit to Celsius: f\n",
            "Enter temperature in Fahrenheit: 32\n",
            "Temperature in Celsius: 0.0\n"
          ]
        }
      ]
    },
    {
      "cell_type": "code",
      "source": [],
      "metadata": {
        "id": "rpw-LKi0IB1L"
      },
      "execution_count": null,
      "outputs": []
    },
    {
      "cell_type": "code",
      "source": [],
      "metadata": {
        "id": "6lvNYJjjIB3H"
      },
      "execution_count": null,
      "outputs": []
    },
    {
      "cell_type": "code",
      "source": [],
      "metadata": {
        "id": "QRjJMgzXIB47"
      },
      "execution_count": null,
      "outputs": []
    },
    {
      "cell_type": "code",
      "source": [],
      "metadata": {
        "id": "Ta1eN0wmIB7T"
      },
      "execution_count": null,
      "outputs": []
    },
    {
      "cell_type": "code",
      "source": [],
      "metadata": {
        "id": "el3K6JDSIB9V"
      },
      "execution_count": null,
      "outputs": []
    }
  ]
}